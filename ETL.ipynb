{
 "cells": [
  {
   "cell_type": "markdown",
   "id": "9ad61ac9",
   "metadata": {},
   "source": [
    "## NEWSROOM ETL"
   ]
  },
  {
   "cell_type": "markdown",
   "id": "983232f4",
   "metadata": {},
   "source": [
    "### Extraction :"
   ]
  },
  {
   "cell_type": "code",
   "execution_count": null,
   "id": "d3e0a043",
   "metadata": {},
   "outputs": [
    {
     "name": "stderr",
     "output_type": "stream",
     "text": [
      "d:\\personal\\newsroom\\newsroom_venv\\Lib\\site-packages\\tqdm\\auto.py:21: TqdmWarning: IProgress not found. Please update jupyter and ipywidgets. See https://ipywidgets.readthedocs.io/en/stable/user_install.html\n",
      "  from .autonotebook import tqdm as notebook_tqdm\n"
     ]
    }
   ],
   "source": [
    "from datasets import load_dataset\n",
    "import pandas as pd\n",
    "from langchain_core.documents import Document\n",
    "from transformers import pipeline\n",
    "from langchain_text_splitters import RecursiveCharacterTextSplitter\n",
    "from langchain_community.embeddings import HuggingFaceEmbeddings\n",
    "from langchain_community.vectorstores import Chroma"
   ]
  },
  {
   "cell_type": "code",
   "execution_count": 12,
   "id": "899a9095",
   "metadata": {},
   "outputs": [],
   "source": [
    "ds = load_dataset(\"R3troR0b/news-dataset\")"
   ]
  },
  {
   "cell_type": "code",
   "execution_count": 13,
   "id": "51ac17f0",
   "metadata": {},
   "outputs": [
    {
     "data": {
      "text/html": [
       "<div>\n",
       "<style scoped>\n",
       "    .dataframe tbody tr th:only-of-type {\n",
       "        vertical-align: middle;\n",
       "    }\n",
       "\n",
       "    .dataframe tbody tr th {\n",
       "        vertical-align: top;\n",
       "    }\n",
       "\n",
       "    .dataframe thead th {\n",
       "        text-align: right;\n",
       "    }\n",
       "</style>\n",
       "<table border=\"1\" class=\"dataframe\">\n",
       "  <thead>\n",
       "    <tr style=\"text-align: right;\">\n",
       "      <th></th>\n",
       "      <th>label</th>\n",
       "      <th>text</th>\n",
       "    </tr>\n",
       "  </thead>\n",
       "  <tbody>\n",
       "    <tr>\n",
       "      <th>0</th>\n",
       "      <td>The Guardian;Critic wrongly jailed by former p...</td>\n",
       "      <td>Leila de Lima, one of fiercest critics of the ...</td>\n",
       "    </tr>\n",
       "    <tr>\n",
       "      <th>1</th>\n",
       "      <td>The Guardian;Trump’s killing of Qassem Suleima...</td>\n",
       "      <td>Donald Trump’s decision to sanction the assass...</td>\n",
       "    </tr>\n",
       "    <tr>\n",
       "      <th>2</th>\n",
       "      <td>The Guardian;Belgium becomes first EU country ...</td>\n",
       "      <td>Belgium has become the EU first country to ban...</td>\n",
       "    </tr>\n",
       "    <tr>\n",
       "      <th>3</th>\n",
       "      <td>The Guardian;Fate of endangered monkey hinges ...</td>\n",
       "      <td>The fate of one of the world’s most threatened...</td>\n",
       "    </tr>\n",
       "    <tr>\n",
       "      <th>4</th>\n",
       "      <td>The Guardian;Russian gas flows to Europe via U...</td>\n",
       "      <td>Russian gas has ceased flowing to Europe via U...</td>\n",
       "    </tr>\n",
       "  </tbody>\n",
       "</table>\n",
       "</div>"
      ],
      "text/plain": [
       "                                               label  \\\n",
       "0  The Guardian;Critic wrongly jailed by former p...   \n",
       "1  The Guardian;Trump’s killing of Qassem Suleima...   \n",
       "2  The Guardian;Belgium becomes first EU country ...   \n",
       "3  The Guardian;Fate of endangered monkey hinges ...   \n",
       "4  The Guardian;Russian gas flows to Europe via U...   \n",
       "\n",
       "                                                text  \n",
       "0  Leila de Lima, one of fiercest critics of the ...  \n",
       "1  Donald Trump’s decision to sanction the assass...  \n",
       "2  Belgium has become the EU first country to ban...  \n",
       "3  The fate of one of the world’s most threatened...  \n",
       "4  Russian gas has ceased flowing to Europe via U...  "
      ]
     },
     "execution_count": 13,
     "metadata": {},
     "output_type": "execute_result"
    }
   ],
   "source": [
    "news_dataframe = ds['train'].to_pandas()\n",
    "news_dataframe.head()"
   ]
  },
  {
   "cell_type": "code",
   "execution_count": 14,
   "id": "cf7daea7",
   "metadata": {},
   "outputs": [],
   "source": [
    "filtered_news_dataframe = news_dataframe.drop(\n",
    "    news_dataframe[\n",
    "        (~news_dataframe['text'].apply(lambda x: isinstance(x, str))) |  # Not a string\n",
    "        (news_dataframe['text'] == \"\")                                 # Empty string\n",
    "    ].index\n",
    ")"
   ]
  },
  {
   "cell_type": "code",
   "execution_count": 15,
   "id": "1e31fe4a",
   "metadata": {},
   "outputs": [
    {
     "data": {
      "text/html": [
       "<div>\n",
       "<style scoped>\n",
       "    .dataframe tbody tr th:only-of-type {\n",
       "        vertical-align: middle;\n",
       "    }\n",
       "\n",
       "    .dataframe tbody tr th {\n",
       "        vertical-align: top;\n",
       "    }\n",
       "\n",
       "    .dataframe thead th {\n",
       "        text-align: right;\n",
       "    }\n",
       "</style>\n",
       "<table border=\"1\" class=\"dataframe\">\n",
       "  <thead>\n",
       "    <tr style=\"text-align: right;\">\n",
       "      <th></th>\n",
       "      <th>label</th>\n",
       "      <th>text</th>\n",
       "      <th>source</th>\n",
       "      <th>headline</th>\n",
       "      <th>url</th>\n",
       "      <th>date</th>\n",
       "    </tr>\n",
       "  </thead>\n",
       "  <tbody>\n",
       "    <tr>\n",
       "      <th>0</th>\n",
       "      <td>The Guardian;Critic wrongly jailed by former p...</td>\n",
       "      <td>Leila de Lima, one of fiercest critics of the ...</td>\n",
       "      <td>The Guardian</td>\n",
       "      <td>Critic wrongly jailed by former president of P...</td>\n",
       "      <td>https://www.theguardian.com/world/2025/jan/01/...</td>\n",
       "      <td>2025-01-01T14:00:16Z</td>\n",
       "    </tr>\n",
       "    <tr>\n",
       "      <th>1</th>\n",
       "      <td>The Guardian;Trump’s killing of Qassem Suleima...</td>\n",
       "      <td>Donald Trump’s decision to sanction the assass...</td>\n",
       "      <td>The Guardian</td>\n",
       "      <td>Trump’s killing of Qassem Suleimani led to fal...</td>\n",
       "      <td>https://www.theguardian.com/us-news/2025/jan/0...</td>\n",
       "      <td>2025-01-01T13:10:04Z</td>\n",
       "    </tr>\n",
       "    <tr>\n",
       "      <th>2</th>\n",
       "      <td>The Guardian;Belgium becomes first EU country ...</td>\n",
       "      <td>Belgium has become the EU first country to ban...</td>\n",
       "      <td>The Guardian</td>\n",
       "      <td>Belgium becomes first EU country to ban sale o...</td>\n",
       "      <td>https://www.theguardian.com/world/2025/jan/01/...</td>\n",
       "      <td>2025-01-01T12:48:15Z</td>\n",
       "    </tr>\n",
       "    <tr>\n",
       "      <th>3</th>\n",
       "      <td>The Guardian;Fate of endangered monkey hinges ...</td>\n",
       "      <td>The fate of one of the world’s most threatened...</td>\n",
       "      <td>The Guardian</td>\n",
       "      <td>Fate of endangered monkey hinges on Brazilian ...</td>\n",
       "      <td>https://www.theguardian.com/world/2025/jan/01/...</td>\n",
       "      <td>2025-01-01T11:41:14Z</td>\n",
       "    </tr>\n",
       "    <tr>\n",
       "      <th>4</th>\n",
       "      <td>The Guardian;Russian gas flows to Europe via U...</td>\n",
       "      <td>Russian gas has ceased flowing to Europe via U...</td>\n",
       "      <td>The Guardian</td>\n",
       "      <td>Russian gas flows to Europe via Ukraine cease ...</td>\n",
       "      <td>https://www.theguardian.com/world/2025/jan/01/...</td>\n",
       "      <td>2025-01-01T11:35:59Z</td>\n",
       "    </tr>\n",
       "  </tbody>\n",
       "</table>\n",
       "</div>"
      ],
      "text/plain": [
       "                                               label  \\\n",
       "0  The Guardian;Critic wrongly jailed by former p...   \n",
       "1  The Guardian;Trump’s killing of Qassem Suleima...   \n",
       "2  The Guardian;Belgium becomes first EU country ...   \n",
       "3  The Guardian;Fate of endangered monkey hinges ...   \n",
       "4  The Guardian;Russian gas flows to Europe via U...   \n",
       "\n",
       "                                                text        source  \\\n",
       "0  Leila de Lima, one of fiercest critics of the ...  The Guardian   \n",
       "1  Donald Trump’s decision to sanction the assass...  The Guardian   \n",
       "2  Belgium has become the EU first country to ban...  The Guardian   \n",
       "3  The fate of one of the world’s most threatened...  The Guardian   \n",
       "4  Russian gas has ceased flowing to Europe via U...  The Guardian   \n",
       "\n",
       "                                            headline  \\\n",
       "0  Critic wrongly jailed by former president of P...   \n",
       "1  Trump’s killing of Qassem Suleimani led to fal...   \n",
       "2  Belgium becomes first EU country to ban sale o...   \n",
       "3  Fate of endangered monkey hinges on Brazilian ...   \n",
       "4  Russian gas flows to Europe via Ukraine cease ...   \n",
       "\n",
       "                                                 url                  date  \n",
       "0  https://www.theguardian.com/world/2025/jan/01/...  2025-01-01T14:00:16Z  \n",
       "1  https://www.theguardian.com/us-news/2025/jan/0...  2025-01-01T13:10:04Z  \n",
       "2  https://www.theguardian.com/world/2025/jan/01/...  2025-01-01T12:48:15Z  \n",
       "3  https://www.theguardian.com/world/2025/jan/01/...  2025-01-01T11:41:14Z  \n",
       "4  https://www.theguardian.com/world/2025/jan/01/...  2025-01-01T11:35:59Z  "
      ]
     },
     "execution_count": 15,
     "metadata": {},
     "output_type": "execute_result"
    }
   ],
   "source": [
    "metadata = filtered_news_dataframe[\"label\"].str.split(';', expand=True)\n",
    "metadata.drop(metadata.columns[4:], axis=1, inplace=True)\n",
    "metadata.columns = [\"source\", \"headline\", \"url\", \"date\"]\n",
    "filtered_news_dataframe = pd.concat([filtered_news_dataframe, metadata], axis=1)\n",
    "filtered_news_dataframe.head(5)"
   ]
  },
  {
   "cell_type": "code",
   "execution_count": 16,
   "id": "2810b24b",
   "metadata": {},
   "outputs": [],
   "source": [
    "news_dataframe = filtered_news_dataframe.drop('label', axis=1) "
   ]
  },
  {
   "cell_type": "code",
   "execution_count": 17,
   "id": "71b650c7",
   "metadata": {},
   "outputs": [
    {
     "data": {
      "text/html": [
       "<div>\n",
       "<style scoped>\n",
       "    .dataframe tbody tr th:only-of-type {\n",
       "        vertical-align: middle;\n",
       "    }\n",
       "\n",
       "    .dataframe tbody tr th {\n",
       "        vertical-align: top;\n",
       "    }\n",
       "\n",
       "    .dataframe thead th {\n",
       "        text-align: right;\n",
       "    }\n",
       "</style>\n",
       "<table border=\"1\" class=\"dataframe\">\n",
       "  <thead>\n",
       "    <tr style=\"text-align: right;\">\n",
       "      <th></th>\n",
       "      <th>text</th>\n",
       "      <th>source</th>\n",
       "      <th>headline</th>\n",
       "      <th>url</th>\n",
       "      <th>date</th>\n",
       "    </tr>\n",
       "  </thead>\n",
       "  <tbody>\n",
       "    <tr>\n",
       "      <th>0</th>\n",
       "      <td>Leila de Lima, one of fiercest critics of the ...</td>\n",
       "      <td>The Guardian</td>\n",
       "      <td>Critic wrongly jailed by former president of P...</td>\n",
       "      <td>https://www.theguardian.com/world/2025/jan/01/...</td>\n",
       "      <td>2025-01-01T14:00:16Z</td>\n",
       "    </tr>\n",
       "    <tr>\n",
       "      <th>1</th>\n",
       "      <td>Donald Trump’s decision to sanction the assass...</td>\n",
       "      <td>The Guardian</td>\n",
       "      <td>Trump’s killing of Qassem Suleimani led to fal...</td>\n",
       "      <td>https://www.theguardian.com/us-news/2025/jan/0...</td>\n",
       "      <td>2025-01-01T13:10:04Z</td>\n",
       "    </tr>\n",
       "    <tr>\n",
       "      <th>2</th>\n",
       "      <td>Belgium has become the EU first country to ban...</td>\n",
       "      <td>The Guardian</td>\n",
       "      <td>Belgium becomes first EU country to ban sale o...</td>\n",
       "      <td>https://www.theguardian.com/world/2025/jan/01/...</td>\n",
       "      <td>2025-01-01T12:48:15Z</td>\n",
       "    </tr>\n",
       "    <tr>\n",
       "      <th>3</th>\n",
       "      <td>The fate of one of the world’s most threatened...</td>\n",
       "      <td>The Guardian</td>\n",
       "      <td>Fate of endangered monkey hinges on Brazilian ...</td>\n",
       "      <td>https://www.theguardian.com/world/2025/jan/01/...</td>\n",
       "      <td>2025-01-01T11:41:14Z</td>\n",
       "    </tr>\n",
       "    <tr>\n",
       "      <th>4</th>\n",
       "      <td>Russian gas has ceased flowing to Europe via U...</td>\n",
       "      <td>The Guardian</td>\n",
       "      <td>Russian gas flows to Europe via Ukraine cease ...</td>\n",
       "      <td>https://www.theguardian.com/world/2025/jan/01/...</td>\n",
       "      <td>2025-01-01T11:35:59Z</td>\n",
       "    </tr>\n",
       "  </tbody>\n",
       "</table>\n",
       "</div>"
      ],
      "text/plain": [
       "                                                text        source  \\\n",
       "0  Leila de Lima, one of fiercest critics of the ...  The Guardian   \n",
       "1  Donald Trump’s decision to sanction the assass...  The Guardian   \n",
       "2  Belgium has become the EU first country to ban...  The Guardian   \n",
       "3  The fate of one of the world’s most threatened...  The Guardian   \n",
       "4  Russian gas has ceased flowing to Europe via U...  The Guardian   \n",
       "\n",
       "                                            headline  \\\n",
       "0  Critic wrongly jailed by former president of P...   \n",
       "1  Trump’s killing of Qassem Suleimani led to fal...   \n",
       "2  Belgium becomes first EU country to ban sale o...   \n",
       "3  Fate of endangered monkey hinges on Brazilian ...   \n",
       "4  Russian gas flows to Europe via Ukraine cease ...   \n",
       "\n",
       "                                                 url                  date  \n",
       "0  https://www.theguardian.com/world/2025/jan/01/...  2025-01-01T14:00:16Z  \n",
       "1  https://www.theguardian.com/us-news/2025/jan/0...  2025-01-01T13:10:04Z  \n",
       "2  https://www.theguardian.com/world/2025/jan/01/...  2025-01-01T12:48:15Z  \n",
       "3  https://www.theguardian.com/world/2025/jan/01/...  2025-01-01T11:41:14Z  \n",
       "4  https://www.theguardian.com/world/2025/jan/01/...  2025-01-01T11:35:59Z  "
      ]
     },
     "execution_count": 17,
     "metadata": {},
     "output_type": "execute_result"
    }
   ],
   "source": [
    "news_dataframe.head(5)"
   ]
  },
  {
   "cell_type": "code",
   "execution_count": 18,
   "id": "00c86968",
   "metadata": {},
   "outputs": [],
   "source": [
    "selected_news = news_dataframe.sample(n=200, random_state=42)\n",
    "selected_news.to_csv(\"news.csv\", index=False)"
   ]
  },
  {
   "cell_type": "code",
   "execution_count": 2,
   "id": "ee8dcee7",
   "metadata": {},
   "outputs": [],
   "source": [
    "news = pd.read_csv('news.csv')\n",
    "news_documents = []\n",
    "for index, current_news in news.iterrows():\n",
    "    document = Document(page_content=current_news[\"text\"], metadata={\"headline\" : current_news[\"headline\"], \"source\" : current_news[\"source\"], \"url\" : current_news[\"url\"], \"date\" : current_news[\"date\"]})\n",
    "    news_documents.append(document)\n"
   ]
  },
  {
   "cell_type": "markdown",
   "id": "1da04ca3",
   "metadata": {},
   "source": [
    "#### Transformation (Text Splitting, ML Integration, and Embedding) "
   ]
  },
  {
   "cell_type": "code",
   "execution_count": null,
   "id": "8b551ba1",
   "metadata": {},
   "outputs": [
    {
     "name": "stderr",
     "output_type": "stream",
     "text": [
      "Device set to use cpu\n"
     ]
    }
   ],
   "source": [
    "\n",
    "# Load Sentiment Model\n",
    "sentiment_analyzer = pipeline(\"sentiment-analysis\", model=\"nlptown/bert-base-multilingual-uncased-sentiment\")"
   ]
  },
  {
   "cell_type": "code",
   "execution_count": 11,
   "id": "a0f3f481",
   "metadata": {},
   "outputs": [],
   "source": [
    "news_documents_with_sentiment = []\n",
    "for doc in news_documents:\n",
    "    sentiment = sentiment_analyzer(doc.page_content, truncation=True)[0]\n",
    "    sentiment_label = sentiment['label']\n",
    "    sentiment_score = sentiment['score']\n",
    "    if '1 star' in sentiment_label or '2 stars' in sentiment_label:\n",
    "        sentiment_label = \"NEGATIVE\"\n",
    "    elif '3 stars' in sentiment_label:\n",
    "        sentiment_label = \"NEUTRAL\"\n",
    "    elif '4 stars' in sentiment_label or '5 stars' in sentiment_label:\n",
    "        sentiment_label = \"POSITIVE\"\n",
    "    else:\n",
    "        sentiment_label = \"UNKNOWN\"\n",
    "\n",
    "    new_metadata = doc.metadata.copy()\n",
    "    new_metadata[\"sentiment_label\"] = sentiment_label\n",
    "    new_metadata[\"sentiment_score\"] = sentiment_score    \n",
    "    updated_doc = Document(\n",
    "        page_content=doc.page_content,\n",
    "        metadata=new_metadata)\n",
    "    news_documents_with_sentiment.append(updated_doc)    \n",
    "    \n",
    "    "
   ]
  },
  {
   "cell_type": "code",
   "execution_count": null,
   "id": "8f6ca1d7",
   "metadata": {},
   "outputs": [
    {
     "name": "stdout",
     "output_type": "stream",
     "text": [
      "Splitting documents into chunks...\n"
     ]
    }
   ],
   "source": [
    "\n",
    "print(\"Splitting documents into chunks...\")\n",
    "text_splitter = RecursiveCharacterTextSplitter(\n",
    "    chunk_size=500, # Experiment with this value\n",
    "    chunk_overlap=50, # And this one\n",
    "    length_function=len,\n",
    "    is_separator_regex=False,\n",
    ")\n",
    "\n",
    "chunks = text_splitter.split_documents(news_documents_with_sentiment)"
   ]
  },
  {
   "cell_type": "code",
   "execution_count": 13,
   "id": "2f466d90",
   "metadata": {},
   "outputs": [
    {
     "name": "stdout",
     "output_type": "stream",
     "text": [
      "\n",
      "--- Chunk 1 ---\n",
      "Content (first 200 chars): A majority of major movies had female protagonists for the first time in 2024. At the same time, representation of racial minorities saw little improvement....\n",
      "Metadata: {'headline': 'Women lead in over half of Hollywood movies for first time', 'source': 'Deutsche Welle', 'url': 'https://www.dw.com/en/women-lead-in-over-half-of-hollywood-movies-for-first-time/a-71578297?maca=en-rss-en-all-1573-rdf', 'date': '2025-02-25 02:00:05', 'sentiment_label': 'NEGATIVE', 'sentiment_score': 0.4495375454425812}\n",
      "Sentiment Label: NEGATIVE\n",
      "Sentiment Score: 0.4495375454425812\n",
      "Original Headline: Women lead in over half of Hollywood movies for first time\n",
      "\n",
      "--- Chunk 2 ---\n",
      "Content (first 200 chars): A recovery mission is now under way to find 11-year-old Kaliyah along the Thames, Met Police said....\n",
      "Metadata: {'headline': 'Girl missing in River Thames named as Kaliyah Coa', 'source': 'BBC News', 'url': 'https://www.bbc.com/news/articles/ckg5v4rp4qzo', 'date': 'Tue, 01 Apr 2025 20:24:08 GMT', 'sentiment_label': 'POSITIVE', 'sentiment_score': 0.46443960070610046}\n",
      "Sentiment Label: POSITIVE\n",
      "Sentiment Score: 0.46443960070610046\n",
      "Original Headline: Girl missing in River Thames named as Kaliyah Coa\n",
      "\n",
      "--- Chunk 3 ---\n",
      "Content (first 200 chars): Al Arabiya channel did not specify whether the strike successfully eliminated him...\n",
      "Metadata: {'headline': 'US tried to eliminate Houthi senior official in Sanaa — media', 'source': 'TASS', 'url': 'https://tass.com/world/1931091', 'date': 'Wed, 19 Mar 2025 23:58:30 +0300', 'sentiment_label': 'NEGATIVE', 'sentiment_score': 0.5474003553390503}\n",
      "Sentiment Label: NEGATIVE\n",
      "Sentiment Score: 0.5474003553390503\n",
      "Original Headline: US tried to eliminate Houthi senior official in Sanaa — media\n"
     ]
    }
   ],
   "source": [
    "for i, chunk in enumerate(chunks[:3]): # Check first 3 chunks\n",
    "    print(f\"\\n--- Chunk {i+1} ---\")\n",
    "    print(f\"Content (first 200 chars): {chunk.page_content[:200]}...\")\n",
    "    print(f\"Metadata: {chunk.metadata}\")\n",
    "    print(f\"Sentiment Label: {chunk.metadata.get('sentiment_label', 'N/A')}\")\n",
    "    print(f\"Sentiment Score: {chunk.metadata.get('sentiment_score', 'N/A')}\")\n",
    "    print(f\"Original Headline: {chunk.metadata.get('headline', 'N/A')}\") # Check original metadata too"
   ]
  },
  {
   "cell_type": "code",
   "execution_count": 14,
   "id": "eb31b02f",
   "metadata": {},
   "outputs": [
    {
     "name": "stdout",
     "output_type": "stream",
     "text": [
      "Initializing embeddings model...\n",
      "Embeddings model initialized.\n"
     ]
    }
   ],
   "source": [
    "print(\"Initializing embeddings model...\")\n",
    "embeddings = HuggingFaceEmbeddings(model_name=\"all-MiniLM-L6-v2\")\n",
    "print(\"Embeddings model initialized.\")"
   ]
  },
  {
   "cell_type": "markdown",
   "id": "74bbd163",
   "metadata": {},
   "source": [
    "#### Load (Load embeddings into vector store)"
   ]
  },
  {
   "cell_type": "code",
   "execution_count": null,
   "id": "5bcec92e",
   "metadata": {},
   "outputs": [
    {
     "name": "stdout",
     "output_type": "stream",
     "text": [
      "Loading chunks into ChromaDB...\n",
      "ChromaDB loaded. Your RAG knowledge base is ready!\n",
      "ChromaDB persisted to disk.\n"
     ]
    }
   ],
   "source": [
    "print(\"Loading chunks into ChromaDB...\")\n",
    "vectorstore = Chroma.from_documents(\n",
    "    documents=chunks, \n",
    "    embedding=embeddings,    \n",
    "    persist_directory=\"./chroma_db\" \n",
    ")\n",
    "print(\"ChromaDB loaded. Your RAG knowledge base is ready!\")\n",
    "\n",
    "vectorstore.persist()\n",
    "print(\"ChromaDB persisted to disk.\")"
   ]
  },
  {
   "cell_type": "code",
   "execution_count": 16,
   "id": "e270ef65",
   "metadata": {},
   "outputs": [
    {
     "name": "stdout",
     "output_type": "stream",
     "text": [
      "\n",
      "--- Performing a quick retrieval test ---\n",
      "Retrieved 3 documents for query: 'What's new in science or discoveries?'\n",
      "\n",
      "--- Retrieved Document 1 ---\n",
      "Content (first 200 chars): Physicists John Hopfield and Geoffrey Hinton have been awarded the 2024 Nobel Prize in physics. They were honored for their research on machine learning with artificial neural networks....\n",
      "Metadata: {'sentiment_label': 'POSITIVE', 'sentiment_score': 0.45703455805778503, 'url': 'https://www.dw.com/en/john-hopfield-and-geoffrey-hinton-receive-nobel-physics-award-for-ai-advances/a-70374538?maca=en-rss-en-all-1573-rdf', 'headline': 'John Hopfield and Geoffrey Hinton receive Nobel physics award for AI advances', 'date': '2024-12-25 16:57:06', 'source': 'Deutsche Welle'}\n",
      "Sentiment: POSITIVE\n",
      "Source Headline: John Hopfield and Geoffrey Hinton receive Nobel physics award for AI advances\n",
      "\n",
      "--- Retrieved Document 2 ---\n",
      "Content (first 200 chars): Physicists John Hopfield and Geoffrey Hinton have been awarded the 2024 Nobel Prize in physics. They were honored for their research on machine learning with artificial neural networks....\n",
      "Metadata: {'url': 'https://www.dw.com/en/john-hopfield-and-geoffrey-hinton-receive-nobel-physics-award-for-ai-advances/a-70374538?maca=en-rss-en-all-1573-rdf', 'date': '2024-12-25 16:57:06', 'sentiment_label': 'POSITIVE', 'source': 'Deutsche Welle', 'headline': 'John Hopfield and Geoffrey Hinton receive Nobel physics award for AI advances', 'sentiment_score': 0.45703455805778503}\n",
      "Sentiment: POSITIVE\n",
      "Source Headline: John Hopfield and Geoffrey Hinton receive Nobel physics award for AI advances\n",
      "\n",
      "--- Retrieved Document 3 ---\n",
      "Content (first 200 chars): In Iceland scientists plan to drill down to magma to understand it and use it for energy production....\n",
      "Metadata: {'headline': \"'It's our moonshot': Why scientists are drilling into volcanos\", 'source': 'BBC News', 'url': 'https://www.bbc.com/news/articles/c1e8q4j1yygo', 'sentiment_label': 'POSITIVE', 'sentiment_score': 0.39240261912345886, 'date': 'Thu, 17 Oct 2024 23:03:48 GMT'}\n",
      "Sentiment: POSITIVE\n",
      "Source Headline: 'It's our moonshot': Why scientists are drilling into volcanos\n"
     ]
    }
   ],
   "source": [
    "print(\"\\n--- Performing a quick retrieval test ---\")\n",
    "retriever = vectorstore.as_retriever(search_kwargs={\"k\": 3}) # Retrieve top 3 relevant chunks\n",
    "test_query = \"What's new in science or discoveries?\" # Or pick a topic from your news_sample.csv\n",
    "\n",
    "retrieved_docs = retriever.invoke(test_query)\n",
    "\n",
    "if retrieved_docs:\n",
    "    print(f\"Retrieved {len(retrieved_docs)} documents for query: '{test_query}'\")\n",
    "    for i, doc in enumerate(retrieved_docs):\n",
    "        print(f\"\\n--- Retrieved Document {i+1} ---\")\n",
    "        print(f\"Content (first 200 chars): {doc.page_content[:200]}...\")\n",
    "        print(f\"Metadata: {doc.metadata}\")\n",
    "        # Verify sentiment_label is present in metadata\n",
    "        print(f\"Sentiment: {doc.metadata.get('sentiment_label', 'N/A')}\")\n",
    "        print(f\"Source Headline: {doc.metadata.get('headline', 'N/A')}\")\n",
    "else:\n",
    "    print(\"No documents retrieved. Check your ETL and data.\")"
   ]
  }
 ],
 "metadata": {
  "kernelspec": {
   "display_name": "newsroom_venv",
   "language": "python",
   "name": "python3"
  },
  "language_info": {
   "codemirror_mode": {
    "name": "ipython",
    "version": 3
   },
   "file_extension": ".py",
   "mimetype": "text/x-python",
   "name": "python",
   "nbconvert_exporter": "python",
   "pygments_lexer": "ipython3",
   "version": "3.12.4"
  }
 },
 "nbformat": 4,
 "nbformat_minor": 5
}
